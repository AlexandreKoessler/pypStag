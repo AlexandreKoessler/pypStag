{
 "cells": [
  {
   "cell_type": "code",
   "execution_count": 1,
   "metadata": {},
   "outputs": [],
   "source": [
    "# -*- coding: utf-8 -*-\n",
    "\n",
    "#Created on Sat Nov 21 16:42:26 2020\n",
    "\n",
    "#@pypStag-Lessons #01\n",
    "#@author: Alexandre JANIN\n",
    "#__All rights reserved__"
   ]
  },
  {
   "cell_type": "markdown",
   "metadata": {},
   "source": [
    "<div style=\"text-align: Right\">\n",
    "    <img src=\"./icons/pypStag_logographie_texte.jpg\" width=\"200\">\n",
    "</div>"
   ]
  },
  {
   "cell_type": "markdown",
   "metadata": {},
   "source": [
    "<center> <h1><b>Lesson 3 - The visualization of Stayy data</b></h1> </center>"
   ]
  },
  {
   "cell_type": "markdown",
   "metadata": {},
   "source": [
    "Functions, routines and documentation of **pypStag** contain lots of typos and unachieved branches. Before use this code, keep that in mind and contact me for bugs or development suggestions: **Alexandre JANIN, alexandre.janin7@gmail.com**"
   ]
  },
  {
   "cell_type": "markdown",
   "metadata": {},
   "source": [
    "### **3D visualization**"
   ]
  },
  {
   "cell_type": "markdown",
   "metadata": {},
   "source": [
    "Conceptually, you can represent a 3D grid by just displaying grid points. However, this type of representation is not ideal in sens of visualizaion: for instance, the spacing between your points allows you to see points behind those your are observing and so perturbates your comprehension of what you are observing. The other solution is to represent the surface of your grid by interpolating data between two adjacent points. An easy tool able to do this very efficiently is the software Paraview. **pypStag** "
   ]
  },
  {
   "cell_type": "markdown",
   "metadata": {},
   "source": [
    "### **Lesson Summary**\n",
    "\n",
    "    0. Package importation\n",
    "    1. Read and process StagYY outputs with Cartesian geometries\n",
    "    2. Read and process StagYY outputs with Yin-Yang geometry\n",
    "    3. Read and process StagYY outputs with Spherical geomtry\n",
    "    4. Data manipulations\n",
    "    5. Further developements"
   ]
  },
  {
   "cell_type": "markdown",
   "metadata": {},
   "source": [
    "### **0. Package importation**"
   ]
  },
  {
   "cell_type": "code",
   "execution_count": 2,
   "metadata": {},
   "outputs": [],
   "source": [
    "# Basic packages you will use in this lesson\n",
    "\n",
    "import matplotlib.pyplot as plt\n",
    "import numpy as np"
   ]
  },
  {
   "cell_type": "code",
   "execution_count": 3,
   "metadata": {},
   "outputs": [],
   "source": [
    "# Importation of pypStag\n",
    "\n",
    "import sys\n",
    "sys.path.append('../')           # referencing the pypStag directory\n",
    "\n",
    "from stagData import StagData    # pypStag objects package"
   ]
  },
  {
   "cell_type": "markdown",
   "metadata": {},
   "source": [
    "### **1. Read and process Stag outputs with Cartesian geometries**"
   ]
  },
  {
   "cell_type": "markdown",
   "metadata": {},
   "source": [
    "The reading and the processing are two steps totaly managed by **pypStag**. The only necessary and sufficient information that you need to specify (except of course the path and file name of your output) is the grid geometry (**Figure 1** for geometry codes). Here we will see step by step how to read an output file of Stag with a Cartesian grid geometry, 2D or 3D, using **pypStag**."
   ]
  }
 ],
 "metadata": {
  "kernelspec": {
   "display_name": "Python 3",
   "language": "python",
   "name": "python3"
  },
  "language_info": {
   "codemirror_mode": {
    "name": "ipython",
    "version": 3
   },
   "file_extension": ".py",
   "mimetype": "text/x-python",
   "name": "python",
   "nbconvert_exporter": "python",
   "pygments_lexer": "ipython3",
   "version": "3.7.4"
  }
 },
 "nbformat": 4,
 "nbformat_minor": 4
}
