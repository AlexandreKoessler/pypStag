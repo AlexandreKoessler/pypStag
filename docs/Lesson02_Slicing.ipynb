{
 "cells": [
  {
   "cell_type": "code",
   "execution_count": 1,
   "metadata": {},
   "outputs": [],
   "source": [
    "# -*- coding: utf-8 -*-\n",
    "\n",
    "#Created on Sat Nov 21 16:42:26 2020\n",
    "\n",
    "#@pypStag-Lessons #01\n",
    "#@author: Alexandre JANIN\n",
    "#__All rights reserved__"
   ]
  },
  {
   "cell_type": "markdown",
   "metadata": {},
   "source": [
    "<div style=\"text-align: Right\">\n",
    "    <img src=\"./icons/pypStag_logographie_texte.jpg\" width=\"200\">\n",
    "</div>"
   ]
  },
  {
   "cell_type": "markdown",
   "metadata": {},
   "source": [
    "<center> <h1><b>Lesson 3 - The visualization of Stayy data</b></h1> </center>"
   ]
  },
  {
   "cell_type": "markdown",
   "metadata": {},
   "source": [
    "Functions, routines and documentation of **pypStag** contain lots of typos and unachieved branches. Before use this code, keep that in mind and contact me for bugs or development suggestions: **Alexandre JANIN, alexandre.janin7@gmail.com**"
   ]
  },
  {
   "cell_type": "markdown",
   "metadata": {},
   "source": [
    "### **Slicing, to do what?**"
   ]
  },
  {
   "cell_type": "markdown",
   "metadata": {},
   "source": []
  },
  {
   "cell_type": "markdown",
   "metadata": {},
   "source": [
    "### **Lesson Summary**\n",
    "\n",
    "    0. Package importation\n",
    "    1. Slicing on Cartesian geometries\n",
    "    2. Slicing on Yin-Yang geometry\n",
    "    3. Slicing on Spherical geomtry\n",
    "    4. Further developements"
   ]
  },
  {
   "cell_type": "markdown",
   "metadata": {},
   "source": [
    "### **0. Package importation**"
   ]
  },
  {
   "cell_type": "code",
   "execution_count": 1,
   "metadata": {},
   "outputs": [],
   "source": [
    "# Basic packages you will use in this lesson\n",
    "\n",
    "import matplotlib.pyplot as plt\n",
    "import numpy as np"
   ]
  },
  {
   "cell_type": "code",
   "execution_count": 1,
   "metadata": {},
   "outputs": [],
   "source": [
    "# Importation of pypStag\n",
    "\n",
    "import sys\n",
    "sys.path.append('../')                    # referencing the pypStag directory\n",
    "\n",
    "# pypStag objects package\n",
    "from stagData import StagData, SliceData\n",
    "from stagData import InterpolatedSliceData\n",
    "from stagInterpolator import sliceInterpolator"
   ]
  },
  {
   "cell_type": "markdown",
   "metadata": {},
   "source": [
    "### **1. Slicing on Cartesian geometries**"
   ]
  },
  {
   "cell_type": "markdown",
   "metadata": {},
   "source": [
    "The reading and the processing are two steps totaly managed by **pypStag**. The only necessary and sufficient information that you need to specify (except of course the path and file name of your output) is the grid geometry (**Figure 1** for geometry codes). Here we will see step by step how to read an output file of Stag with a Cartesian grid geometry, 2D or 3D, using **pypStag**."
   ]
  },
  {
   "cell_type": "code",
   "execution_count": 4,
   "metadata": {},
   "outputs": [
    {
     "name": "stdout",
     "output_type": "stream",
     "text": [
      ">> stagData| Reading and resampling: SRW42mpi3D_eta00001\n",
      ">> stagData|   - 3D data detected\n",
      ">> stagData|     -> Grid geometry compatible with cart3D or spherical\n",
      ">> stagData|   - Original grid geometry:\n",
      ">> stagData|     - Nx = 192\n",
      ">> stagData|     - Ny = 192\n",
      ">> stagData|     - Nz = 64\n",
      ">> stagData|   - New grid geometry:\n",
      ">> stagData|     - Nx = 192\n",
      ">> stagData|     - Ny = 192\n",
      ">> stagData|     - Nz = 64\n",
      ">> stagData|   - Scalar field detected\n",
      ">> stagData|     -> Viscosity\n",
      ">> stagData| Reading and resampling operations done!\n",
      ">> stagData| Processing stag Data:\n",
      ">> stagData|   - Grid Geometry\n",
      ">> stagData|       - 3D cartesian grid geometry\n",
      ">> stagData|       - Build data grid for scalar field\n",
      ">> stagData| Processing of stag data done!\n"
     ]
    }
   ],
   "source": [
    "directory = './test_data/'           # path to my data\n",
    "fname     = 'SRW42mpi3D_eta00001'    # file name of my stagyy output under cartesian 3D geometry\n",
    "\n",
    "# read and process my data:\n",
    "sd = StagData(geometry='cart3D')\n",
    "sd.verbose = True\n",
    "sd.stagImport(directory, fname, resampling=[1,1,1])\n",
    "sd.stagProcessing() "
   ]
  },
  {
   "cell_type": "markdown",
   "metadata": {},
   "source": [
    "We read and process the cartesian data. Now we will creat an empty **SliceData** with the good geometry."
   ]
  },
  {
   "cell_type": "code",
   "execution_count": 8,
   "metadata": {},
   "outputs": [],
   "source": [
    "sld = SliceData(geometry='cart3D')"
   ]
  },
  {
   "cell_type": "markdown",
   "metadata": {},
   "source": [
    "Then give the **StagData** instance for the slicing and a level of slicing"
   ]
  },
  {
   "cell_type": "code",
   "execution_count": 9,
   "metadata": {},
   "outputs": [
    {
     "name": "stdout",
     "output_type": "stream",
     "text": [
      ">> sliceData| Begin the slice extraction\n",
      ">> sliceData|   - Scalar field detected\n"
     ]
    }
   ],
   "source": [
    "sld.sliceExtractor(sd,0)"
   ]
  },
  {
   "cell_type": "markdown",
   "metadata": {},
   "source": [
    "### **2. Slicing on Yin-Yang geometries**"
   ]
  },
  {
   "cell_type": "markdown",
   "metadata": {},
   "source": [
    "### **3. Slicing on Spherical geometries**"
   ]
  },
  {
   "cell_type": "code",
   "execution_count": null,
   "metadata": {},
   "outputs": [],
   "source": []
  }
 ],
 "metadata": {
  "kernelspec": {
   "display_name": "Python 3",
   "language": "python",
   "name": "python3"
  },
  "language_info": {
   "codemirror_mode": {
    "name": "ipython",
    "version": 3
   },
   "file_extension": ".py",
   "mimetype": "text/x-python",
   "name": "python",
   "nbconvert_exporter": "python",
   "pygments_lexer": "ipython3",
   "version": "3.7.4"
  }
 },
 "nbformat": 4,
 "nbformat_minor": 4
}
